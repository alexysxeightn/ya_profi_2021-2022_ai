{
  "nbformat": 4,
  "nbformat_minor": 0,
  "metadata": {
    "colab": {
      "name": "1-7_test.ipynb",
      "provenance": []
    },
    "kernelspec": {
      "name": "python3",
      "display_name": "Python 3"
    },
    "language_info": {
      "name": "python"
    }
  },
  "cells": [
    {
      "cell_type": "markdown",
      "source": [
        "# 1 Ряды\n",
        "Пусть $x = ROUND(\\sqrt{2n})$, где $ROUND$ - округление до ближайшего целого. Пусть $a_n=x^{−2}(x+1)^{−1}$.\n",
        "\n",
        "Найдите сумму ряда $\\sum\\limits_{n = 3}^{\\infty}a_n$.\n",
        "\n",
        "Формат ответа - несократимая дробь $p∕q$. "
      ],
      "metadata": {
        "id": "GSD2p-TtX_p9"
      }
    },
    {
      "cell_type": "markdown",
      "source": [
        "Решение:"
      ],
      "metadata": {
        "id": "YTNhyjwlY9Z4"
      }
    },
    {
      "cell_type": "code",
      "source": [
        "for n in range(3, 30):\n",
        "  x = round((2 * n) ** 0.5)\n",
        "  print(x, end = ' ')"
      ],
      "metadata": {
        "colab": {
          "base_uri": "https://localhost:8080/"
        },
        "id": "EmoqSFAaaAdp",
        "outputId": "47f647af-5f59-4802-c814-43e7cee6fd52"
      },
      "execution_count": 1,
      "outputs": [
        {
          "output_type": "stream",
          "name": "stdout",
          "text": [
            "2 3 3 3 4 4 4 4 5 5 5 5 5 6 6 6 6 6 6 7 7 7 7 7 7 7 8 "
          ]
        }
      ]
    },
    {
      "cell_type": "markdown",
      "source": [
        "$\\forall n \\geq 3$ в сумме будет присутсовавать $n$ слагаемых с $x = n$. Тогда $\\sum\\limits_{n = 3}^{\\infty} a_n = \\frac{1}{12} + \\sum\\limits_{n=3}^{\\infty} \\frac{n}{n^2(n+1)} = \\frac{1}{12} + \\sum\\limits_{n=3}^{\\infty} \\frac{1}{n(n+1)} $\n",
        "Эта сумма раскладывается в телескопическую, она равна 1/3\n",
        "\n",
        "Тогда ответ: $\\frac{1}{12} + \\frac{1}{3} = \\frac{5}{12}$"
      ],
      "metadata": {
        "id": "4l4QJQyVaLEk"
      }
    },
    {
      "cell_type": "code",
      "source": [
        "sum = 0\n",
        "for n in range(3, 1000000):\n",
        "  x = round((2 * n) ** 0.5)\n",
        "  sum += x ** (-2) * (x + 1) ** (-1)\n",
        "print(sum)\n",
        "print(5/12)"
      ],
      "metadata": {
        "colab": {
          "base_uri": "https://localhost:8080/"
        },
        "id": "oJo9BFOcYBEI",
        "outputId": "a1732a7a-3350-467a-977c-dcb2d40a8bb7"
      },
      "execution_count": 2,
      "outputs": [
        {
          "output_type": "stream",
          "name": "stdout",
          "text": [
            "0.41595980938000715\n",
            "0.4166666666666667\n"
          ]
        }
      ]
    },
    {
      "cell_type": "markdown",
      "source": [
        "# 2 Теория вероятностей\n",
        "\n",
        "Случайные величины $X$ и $Y$ независимы и равномерно распределены на отрезке $[0,1]$. Найдите математическое ожидание определителя матрицы:\n",
        "\n",
        "$$ \\left( \\begin{matrix}\n",
        "X & Y^2 \\\\\n",
        "X^2 & XY\n",
        "\\end{matrix} \\right) $$\n",
        "\n",
        "Формат ответа - несократимая дробь $p∕q$. "
      ],
      "metadata": {
        "id": "TwEZCoJnamOo"
      }
    },
    {
      "cell_type": "markdown",
      "source": [
        "Решение: \n",
        "\n",
        "$$ M(X) = M(Y) = \\frac{1}{2}, \\quad M(X^2) = M(Y^2) = \\frac{1}{3} $$\n",
        "\n",
        "$$ \\left| \\begin{matrix}\n",
        "X & Y^2 \\\\\n",
        "X^2 & XY\n",
        "\\end{matrix} \\right| = X^2Y - X^2Y^2 = X^2(Y-Y^2)$$\n",
        "\n",
        "$$ M(X^2(Y-Y^2)) = M(X^2) \\cdot M(Y - Y^2) = M(X^2) \\cdot (M(Y) - M(Y^2)) = \\frac{1}{3} \\cdot \\left( \\frac{1}{2} - \\frac{1}{3} \\right) = \\frac{1}{18}$$\n"
      ],
      "metadata": {
        "id": "hmPjtm26a7Ka"
      }
    },
    {
      "cell_type": "markdown",
      "source": [
        "# 3 Комбинаторика и графы\n",
        "\n",
        "В графе $G, n=10$ вершин. Между каждой из $n(n−1)∕2$ различных пар вершин проведено ребро независимо от других с вероятностью $1∕2$.\n",
        "\n",
        "Найдите математическое ожидание количества различных простых путей из вершины $u$ в вершину $v$, где $u,v∈G;u≠v$\n",
        "\n",
        "Формат ответа - несократимая дробь $p∕q$. \n"
      ],
      "metadata": {
        "id": "XUGw8fobbiyV"
      }
    },
    {
      "cell_type": "markdown",
      "source": [
        "Решение: для пути длины $k$ необходимо между вершинами $u$ и $v$ разместить $k-1$ вершину. Всего способов сделать это $A_{n-2}^{k-1}$. Тогда в общем виде матожидание будет равно $\\sum\\limits_{k = 1}^{n - 1} A_{n - 2}^{k - 1} k p ^k$, а для условия задачи $\\sum\\limits_{k = 1}^{9} \\frac{k A_{8}^{k - 1}}{2^k} = \\frac{16293}{4}$"
      ],
      "metadata": {
        "id": "H_t9JCXDb1Vk"
      }
    },
    {
      "cell_type": "code",
      "source": [
        "from math import factorial\n",
        "\n",
        "def A(n, k):\n",
        "  return factorial(n) / factorial(n - k)\n",
        "\n",
        "M = 0\n",
        "for k in range(1, 10):\n",
        "  M += k * A(8, k - 1) / (2 ** k)\n",
        "print(M)\n",
        "print(16293/4)"
      ],
      "metadata": {
        "colab": {
          "base_uri": "https://localhost:8080/"
        },
        "id": "AdsDFQutdFBs",
        "outputId": "71c72e65-2f7a-45e1-8dff-25c8a84b421b"
      },
      "execution_count": 3,
      "outputs": [
        {
          "output_type": "stream",
          "name": "stdout",
          "text": [
            "4073.25\n",
            "4073.25\n"
          ]
        }
      ]
    },
    {
      "cell_type": "markdown",
      "source": [
        "# 4 Матрицы\n",
        "\n",
        "Известно, что след матрицы $A$ равен 5. Найдите минимальное возможное целое положительное значение следа результата произведения матриц\n",
        "\n",
        "$$\n",
        "\\left( \\begin{matrix}\n",
        "1 & 2 & 5 \\\\\n",
        "3 & 1 & 3 \\\\\n",
        "-4 & 2 & 1\n",
        "\\end{matrix} \\right) A \\left( \\begin{matrix}\n",
        "-5 & 8 & 1 \\\\\n",
        "-15 & 21 & 12 \\\\\n",
        "10 & -10 & -5\n",
        "\\end{matrix} \\right)\n",
        "$$\n",
        "\n",
        "Формат ответа - целое число. "
      ],
      "metadata": {
        "id": "E7Yfff7_d0H9"
      }
    },
    {
      "cell_type": "markdown",
      "source": [
        "Решение: \n"
      ],
      "metadata": {
        "id": "tJTDi2tJebyJ"
      }
    },
    {
      "cell_type": "code",
      "source": [
        "import numpy as np\n",
        "\n",
        "L = np.array([[1, 2, 5],\n",
        "              [3, 1, 3],\n",
        "              [-4, 2, 1]])\n",
        "\n",
        "R = np.array([[-5, 8, 1],\n",
        "              [-15, 21, 12],\n",
        "              [10, -10, -5]])\n",
        "\n",
        "print(np.linalg.inv(L))"
      ],
      "metadata": {
        "colab": {
          "base_uri": "https://localhost:8080/"
        },
        "id": "pOENTi7eeevO",
        "outputId": "11a6556a-4090-4254-c05b-760074e21985"
      },
      "execution_count": 4,
      "outputs": [
        {
          "output_type": "stream",
          "name": "stdout",
          "text": [
            "[[-0.33333333  0.53333333  0.06666667]\n",
            " [-1.          1.4         0.8       ]\n",
            " [ 0.66666667 -0.66666667 -0.33333333]]\n"
          ]
        }
      ]
    },
    {
      "cell_type": "code",
      "source": [
        "print(15 * np.linalg.inv(L))"
      ],
      "metadata": {
        "colab": {
          "base_uri": "https://localhost:8080/"
        },
        "id": "1zKSsUSkfBtg",
        "outputId": "5aff6daa-5d53-45f3-9fd1-efe83189a544"
      },
      "execution_count": 5,
      "outputs": [
        {
          "output_type": "stream",
          "name": "stdout",
          "text": [
            "[[ -5.   8.   1.]\n",
            " [-15.  21.  12.]\n",
            " [ 10. -10.  -5.]]\n"
          ]
        }
      ]
    },
    {
      "cell_type": "markdown",
      "source": [
        "$15 L^{-1} = R$\n",
        "\n",
        "$tr(LAR) = tr(LA\\cdot 15L^{-1}) = 15 tr(LAL^{-1}) = 15 tr(A) = 15 \\cdot 5 = 75$"
      ],
      "metadata": {
        "id": "g8K97khUfFze"
      }
    },
    {
      "cell_type": "markdown",
      "source": [
        "# 5 Форма выхода нейросети\n",
        "\n",
        "При разработке архитектуры глубокой нейронной сети важно понимать, какие размеры карт признаков формирует тот или иной ее слой. Так Вы можете оценить быстродействие и потребность в памяти фрагментов модели.\n",
        "\n",
        "В ходе выполнения задачи необходимо определить размер выходной карты признаков фрагмента глубокой нейронной сети, показанной на рисунке.\n",
        "\n",
        "Дано, что размер входной карты признаков составляет B = 16 (размер батча), С = 3 (количество каналов), N = 100 (высота карты признаков), M = 200 (ширина карты признаков).\n",
        "\n",
        "На схеме Conv2D — сверточные слои, MaxPool2D — слой подвыборки (пулинга), BatchNorm — слой батч-нормализации, ReLU — слой с соответствующей активационной функцией. На схеме также показаны значимые параметры соответствующих слоев. Смысл параметров такой же, как принято в библиотеке pytorch.\n",
        "\n",
        "![statement-image.png](data:image/png;base64,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)\n",
        "\n",
        "В качестве ответа введите 4 числа, разделенных пробелом, соответствующих размеру батча, количеству каналов, высоте и ширине выходной карты признаков. "
      ],
      "metadata": {
        "id": "UPsbohsvfYzx"
      }
    },
    {
      "cell_type": "markdown",
      "source": [
        "Решение:"
      ],
      "metadata": {
        "id": "wdD8R3VehuSc"
      }
    },
    {
      "cell_type": "code",
      "source": [
        "from torch import nn\n",
        "import torch\n",
        "\n",
        "l1 = nn.Conv2d(in_channels = 3,\n",
        "               out_channels = 20,\n",
        "               kernel_size = (5, 5),\n",
        "               stride = (1, 1),\n",
        "               padding = (0, 0),\n",
        "               dilation = (1, 1))\n",
        "\n",
        "l2 = nn.Conv2d(in_channels = 20,\n",
        "               out_channels = 30,\n",
        "               kernel_size = (4, 3),\n",
        "               stride = (2, 1),\n",
        "               padding = (0, 0),\n",
        "               dilation = (2, 2))\n",
        "\n",
        "l3 = nn.MaxPool2d(kernel_size = (2, 2),\n",
        "                  stride = (2, 2),\n",
        "                  padding = (0, 0),\n",
        "                  dilation = (1, 1))\n",
        "\n",
        "l4 = nn.Conv2d(in_channels = 30,\n",
        "               out_channels = 100,\n",
        "               kernel_size = (1, 1),\n",
        "               stride = (1, 1),\n",
        "               padding = (0, 0),\n",
        "               dilation = (1, 1))\n",
        "\n",
        "l5 = nn.BatchNorm2d(100)\n",
        "\n",
        "l6 = nn.ReLU()\n",
        "\n",
        "input = torch.randn(16, 3, 100, 200)\n",
        "output = l6(l5(l4(l3(l2(l1(input))))))\n",
        "print(output.shape)"
      ],
      "metadata": {
        "colab": {
          "base_uri": "https://localhost:8080/"
        },
        "id": "GX94ozVBfzIW",
        "outputId": "e6f98bfe-5973-45b9-904e-2c5dd4ad868e"
      },
      "execution_count": 6,
      "outputs": [
        {
          "output_type": "stream",
          "name": "stdout",
          "text": [
            "torch.Size([16, 100, 22, 96])\n"
          ]
        }
      ]
    },
    {
      "cell_type": "markdown",
      "source": [
        "# 6 Предсказания с шумом и якобиан\n",
        "\n",
        "Завод по производству химических удобрений оборудован набором датчиков, показания которых задаются вектором $x∈ \\mathbb{R}^N$. Для предсказания набора показателей $y∈ \\mathbb{R}^M$, характеризующих качество и эффективность производства, была обучена нейронная сеть $f:\\mathbb{R}^N→\\mathbb{R}^M$. В паспорте каждого датчика указана его погрешность измерений, кроме того, показания некоторых датчиков связаны (\"скоррелированы\") между собой. Предполагается, что шум датчиков имеет нормальное распределение. На основе этих знаний была составлена матрица ковариации $Σ=covx$ вектора показаний $x$. Известно, что максимальное собственное значение этой матрицы много меньше единицы.\n",
        "\n",
        "Оцените погрешность предсказаний модели. Для этого вычислите матрицу ковариации $f(x)$, если известно значение Якобиана $\\frac{df}{dx}$ в точке $x_0$ — текущих показаниях датчиков, и матрица ковариации $Σ$. В качестве ответа укажите след матрицы ковариации с точностью до трех знаков после запятой. \n",
        "\n",
        "$$ \\Sigma = \\left( \\begin{matrix}\n",
        "0.3 & -0.2 & 0 & 0.02 \\\\\n",
        "-0.2 & 0.9 & 0 & 0.1 \\\\\n",
        "0 & 0 & 0.5 & -0.01 \\\\\n",
        "0.02 & 0.1 & -0.01 & 1.1\n",
        "\\end{matrix} \\right) $$\n",
        "\n",
        "$$ \\frac{df}{dx} = \\left( \\begin{matrix}\n",
        "0.3 & -0.1 & 1.1 & -2.6 \\\\\n",
        "2.4 & 0.4 & -0.7 & 1.5 \\\\\n",
        "0.7 & -0.9 & 0.3 & 2.1 \\\\\n",
        "-0.2 & 0.4 & 0.5 & 0.5 \\\\\n",
        "1.8 & 1.6 & 0.9 & -1.3\n",
        "\\end{matrix} \\right) $$\n"
      ],
      "metadata": {
        "id": "3gXybj-4iWMC"
      }
    },
    {
      "cell_type": "markdown",
      "source": [
        "Решение: \n"
      ],
      "metadata": {
        "id": "F7BKGte3jiFg"
      }
    },
    {
      "cell_type": "code",
      "source": [
        "import numpy as np\n",
        "\n",
        "cov = np.array([[0.3, -0.2, 0, 0.02],\n",
        "                [-0.2, 0.9, 0, 0.1],\n",
        "                [0, 0, 0.5, -0.01],\n",
        "                [0.02, 0.1, -0.01, 1.1]])\n",
        "\n",
        "J = np.array([[0.3, -0.1, 1.1, -2.6],\n",
        "              [2.4, 0.4, -0.7, 1.5],\n",
        "              [0.7, -0.9, 0.3, 2.1],\n",
        "              [-0.2, 0.4, 0.5, 0.5],\n",
        "              [1.8, 1.6, 0.9, -1.3]])\n",
        "\n",
        "print(J @ cov @ J.T)\n",
        "print('Answer: ', np.trace(J @ cov @ J.T))"
      ],
      "metadata": {
        "colab": {
          "base_uri": "https://localhost:8080/"
        },
        "id": "-aCXD6d8jjch",
        "outputId": "eaf6e528-39d2-4b01-f17f-e9bf888b40ad"
      },
      "execution_count": 7,
      "outputs": [
        {
          "output_type": "stream",
          "name": "stdout",
          "text": [
            "[[ 8.167  -4.7405 -5.4551 -1.3251  3.7043]\n",
            " [-4.7405  4.493   3.997   0.568  -1.343 ]\n",
            " [-5.4551  3.997   5.6922  0.7976 -3.1906]\n",
            " [-1.3251  0.568   0.7976  0.619  -0.0488]\n",
            " [ 3.7043 -1.343  -3.1906 -0.0488  3.9018]]\n",
            "Answer:  22.873000000000005\n"
          ]
        }
      ]
    },
    {
      "cell_type": "markdown",
      "source": [
        "# 7 Решающее дерево\n",
        "\n",
        "Вася решает задачу бинарной классификации объектов с признаками $(x_1,x_2)$. Обучающая выборка состоит из $2021^2$ объектов с признаками $(m,n)$, где $m, n$ пробегают все возможные значения от $1$ до $2021$. При этом объекты с нечётной суммой $x_1+x_2$ относятся к первому классу, а с чётной — ко второму классу. Вася хочет построить решающее дерево, идеально решающее его задачу на обучающей выборке (то есть такое решающее дерево, которое ни разу не ошибается на обучающей выборке). Решающие правила в узлах дерева имеют вид $[x_i<a], i=1,2$. Какой минимальной глубиной дерева может обойтись Вася? "
      ],
      "metadata": {
        "id": "xolpNDINkCwJ"
      }
    },
    {
      "cell_type": "markdown",
      "source": [
        "Решение. Понадобится 2020 разделения по оси x и 2020 разделений по оси y. Ответ: 4040\n",
        "\n",
        "Если решать в общем виде, то для набора $(2n+1)^2$ точек понадобится $4n$ деревьев. Проверка на мелких числах:"
      ],
      "metadata": {
        "id": "sqvMBsCdkZGR"
      }
    },
    {
      "cell_type": "code",
      "source": [
        "import pandas as pd\n",
        "import numpy as np\n",
        "from sklearn.tree import DecisionTreeClassifier\n",
        "\n",
        "for N in range(3, 61, 2):\n",
        "\n",
        "  x1 = np.arange(1, N + 1)\n",
        "  x2 = np.arange(1, N + 1)\n",
        "  dataset = np.transpose([np.tile(x1, len(x2)), np.repeat(x2, len(x1))])\n",
        "  target = np.array([0, 1] * (N ** 2 // 2) + [0])\n",
        "\n",
        "  df = pd.DataFrame()\n",
        "  df['x1'] = dataset[:, 0]\n",
        "  df['x2'] = dataset[:, 1]\n",
        "  df['target'] = target\n",
        "\n",
        "  target = np.array(df['target'])\n",
        "  i = 1\n",
        "  while True:\n",
        "    DT = DecisionTreeClassifier(max_depth=i)\n",
        "    DT.fit(df[['x1', 'x2']], df['target'])\n",
        "    if not (target - DT.predict(df[['x1', 'x2']])).any():\n",
        "      break\n",
        "    i += 1\n",
        "  print(f\"N: {N}, depth: {i}\")"
      ],
      "metadata": {
        "colab": {
          "base_uri": "https://localhost:8080/"
        },
        "id": "YSGkO6VOkxWB",
        "outputId": "7caa4383-646e-4760-81ff-efd451f51e97"
      },
      "execution_count": 8,
      "outputs": [
        {
          "output_type": "stream",
          "name": "stdout",
          "text": [
            "N: 3, depth: 4\n",
            "N: 5, depth: 8\n",
            "N: 7, depth: 12\n",
            "N: 9, depth: 16\n",
            "N: 11, depth: 20\n",
            "N: 13, depth: 24\n",
            "N: 15, depth: 28\n",
            "N: 17, depth: 32\n",
            "N: 19, depth: 36\n",
            "N: 21, depth: 40\n",
            "N: 23, depth: 44\n",
            "N: 25, depth: 48\n",
            "N: 27, depth: 52\n",
            "N: 29, depth: 56\n",
            "N: 31, depth: 60\n",
            "N: 33, depth: 64\n",
            "N: 35, depth: 68\n",
            "N: 37, depth: 72\n",
            "N: 39, depth: 76\n",
            "N: 41, depth: 80\n",
            "N: 43, depth: 84\n",
            "N: 45, depth: 88\n",
            "N: 47, depth: 92\n",
            "N: 49, depth: 96\n",
            "N: 51, depth: 100\n",
            "N: 53, depth: 104\n",
            "N: 55, depth: 108\n",
            "N: 57, depth: 112\n",
            "N: 59, depth: 116\n"
          ]
        }
      ]
    }
  ]
}